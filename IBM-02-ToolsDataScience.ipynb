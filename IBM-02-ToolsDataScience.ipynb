{
  "metadata": {
    "kernelspec": {
      "name": "python",
      "display_name": "Python (Pyodide)",
      "language": "python"
    },
    "language_info": {
      "codemirror_mode": {
        "name": "python",
        "version": 3
      },
      "file_extension": ".py",
      "mimetype": "text/x-python",
      "name": "python",
      "nbconvert_exporter": "python",
      "pygments_lexer": "ipython3",
      "version": "3.8"
    }
  },
  "nbformat_minor": 4,
  "nbformat": 4,
  "cells": [
    {
      "cell_type": "markdown",
      "source": "# Data Science Tools and Ecosystem",
      "metadata": {}
    },
    {
      "cell_type": "markdown",
      "source": "In this notebook, Data Science Tools and Ecosystem are summarized.",
      "metadata": {}
    },
    {
      "cell_type": "markdown",
      "source": "In this notebook, Data Science Tools and Ecosystem are summarized.\n1. Python\n2. R\n3. Julia\n4. Scala",
      "metadata": {}
    },
    {
      "cell_type": "markdown",
      "source": "Some of the commonly used libraries used by Data Scientists include:\n- NumPy\n- SciPy\n- matplotlib",
      "metadata": {}
    },
    {
      "cell_type": "markdown",
      "source": "Data Science Tools\n- Jupyter Lab\n- RStudio\n- Apache Spark",
      "metadata": {}
    },
    {
      "cell_type": "markdown",
      "source": "### Below are a few examples of evaluating arithmetic expressions in Python",
      "metadata": {}
    },
    {
      "cell_type": "code",
      "source": "# This a simple arithmetic expression to mutiply then add integers\n(3*4)+5",
      "metadata": {
        "trusted": true
      },
      "outputs": [
        {
          "execution_count": 1,
          "output_type": "execute_result",
          "data": {
            "text/plain": "17"
          },
          "metadata": {}
        }
      ],
      "execution_count": 1
    },
    {
      "cell_type": "code",
      "source": "# This will convert 200 minutes to hours by diving by 60\n(200) / 60",
      "metadata": {
        "trusted": true
      },
      "outputs": [
        {
          "execution_count": 3,
          "output_type": "execute_result",
          "data": {
            "text/plain": "3.3333333333333335"
          },
          "metadata": {}
        }
      ],
      "execution_count": 3
    },
    {
      "cell_type": "markdown",
      "source": "**Objectives:**\n- List popular tools for Data Science\n- List popular languages for Data Science\n- List popular libraries for Data Science\n- Review Jupyter Notebooks\n- Review GitLab and GitHub",
      "metadata": {}
    },
    {
      "cell_type": "markdown",
      "source": "## Author\nLibardo Arturo Arroyave Bustos",
      "metadata": {}
    }
  ]
}